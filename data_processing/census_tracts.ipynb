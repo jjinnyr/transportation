{
 "cells": [
  {
   "cell_type": "markdown",
   "id": "d295ca47-c2f5-4a06-977f-421b9786bed9",
   "metadata": {},
   "source": [
    "# Load raw data and compute metrics and aggregates\n",
    "\n",
    "- miles bike lane per miles road per census tract\n",
    "- crosswalks per mile road per census tract\n",
    "- combine into accessibility index\n",
    "- 2020 census population percentages\n",
    "- accessibility index per capita race"
   ]
  },
  {
   "cell_type": "code",
   "execution_count": 1,
   "id": "da153aa0-9fcb-41f0-9412-4db2b48d2d1b",
   "metadata": {},
   "outputs": [],
   "source": [
    "import pandas as pd\n",
    "import geopandas as gpd\n",
    "tracts = gpd.read_file('Census_2020_Tracts_with_PL_94-171_Redistricting__Data_for_1990-2020.geojson')"
   ]
  },
  {
   "cell_type": "code",
   "execution_count": 2,
   "id": "53db596f-7c23-4a5f-8ada-419b481eb597",
   "metadata": {},
   "outputs": [
    {
     "data": {
      "text/plain": [
       "Index(['OBJECTID_1', 'GEOID_20', 'TRACT_20_NAME', 'TRACT_20_LABEL', 'TRACT_20',\n",
       "       'F1990_PL_data_TOT_POP', 'F1990_PL_data_WHITE_NOT',\n",
       "       'F1990_PL_data_BLACK_NOT', 'F1990_PL_data_AMI_NOT',\n",
       "       'F1990_PL_data_ASIAN_NOT',\n",
       "       ...\n",
       "       'F2020_PL_data_HU', 'F2020_PL_data_HU_OCC', 'F2020_PL_data_HU_VACANT',\n",
       "       'F2020_PL_data_GQ_I', 'F2020_PL_data_GQ_N_I', 'AREA_ACRES', 'AREA_SQMI',\n",
       "       'Shape__Area', 'Shape__Length', 'geometry'],\n",
       "      dtype='object', length=113)"
      ]
     },
     "execution_count": 2,
     "metadata": {},
     "output_type": "execute_result"
    }
   ],
   "source": [
    "tracts.columns"
   ]
  },
  {
   "cell_type": "code",
   "execution_count": 6,
   "id": "332f62af-fc9a-499f-ba5b-02c9fe91ab61",
   "metadata": {},
   "outputs": [],
   "source": [
    "keep_columns = [\"TRACT_20\", \"AREA_SQMI\"]\n",
    "for col in tracts.columns:\n",
    "    if col.startswith(\"F2020\"):\n",
    "        keep_columns.append(col)\n",
    "keep_columns.append('geometry')\n",
    "tracts = tracts[keep_columns]"
   ]
  },
  {
   "cell_type": "markdown",
   "id": "3fb576df-a0f2-41db-bf8a-f57bf81e3ccd",
   "metadata": {},
   "source": [
    "## start with street miles"
   ]
  },
  {
   "cell_type": "code",
   "execution_count": 7,
   "id": "493764f6-02a9-4b37-930a-9b4e3eda618d",
   "metadata": {},
   "outputs": [],
   "source": [
    "streets = gpd.read_file('Seattle_Streets.geojson')"
   ]
  },
  {
   "cell_type": "code",
   "execution_count": 8,
   "id": "610c786c-87fc-4c64-8d6b-3cf4c247f5e7",
   "metadata": {},
   "outputs": [],
   "source": [
    "streets = streets[['UNITIDSORT', 'UNITDESC', 'geometry']]"
   ]
  },
  {
   "cell_type": "code",
   "execution_count": 9,
   "id": "4ee07343-8f80-4302-bd6a-1da3c8153881",
   "metadata": {},
   "outputs": [
    {
     "name": "stderr",
     "output_type": "stream",
     "text": [
      "/var/folders/9j/1f7mt18d2pqcwws6hwdx7_kr0000gn/T/ipykernel_92892/1497522123.py:1: UserWarning: `keep_geom_type=True` in overlay resulted in 180 dropped geometries of different geometry types than df1 has. Set `keep_geom_type=False` to retain all geometries\n",
      "  union = gpd.overlay(streets, tracts, how=\"union\").explode().reset_index(drop=True)\n",
      "/var/folders/9j/1f7mt18d2pqcwws6hwdx7_kr0000gn/T/ipykernel_92892/1497522123.py:1: FutureWarning: Currently, index_parts defaults to True, but in the future, it will default to False to be consistent with Pandas. Use `index_parts=True` to keep the current behavior and True/False to silence the warning.\n",
      "  union = gpd.overlay(streets, tracts, how=\"union\").explode().reset_index(drop=True)\n"
     ]
    }
   ],
   "source": [
    "union = gpd.overlay(streets, tracts, how=\"union\").explode().reset_index(drop=True)"
   ]
  },
  {
   "cell_type": "code",
   "execution_count": 10,
   "id": "84c7d002-8d84-40af-8795-b35636b6f64a",
   "metadata": {},
   "outputs": [],
   "source": [
    "# we don't want streets over the water\n",
    "union.dropna(axis=0, subset=[\"TRACT_20\"], inplace=True)"
   ]
  },
  {
   "cell_type": "code",
   "execution_count": 11,
   "id": "92bd7dc8-fc46-4f21-b11e-9ec4a5002720",
   "metadata": {},
   "outputs": [],
   "source": [
    "# function to compute line in coords length in miles\n",
    "from math import radians, cos, sin, asin, sqrt\n",
    "\n",
    "# Calculates distance between 2 GPS coordinates\n",
    "def haversine(lat1, lon1, lat2, lon2):\n",
    "    \"\"\"\n",
    "    Calculate the great circle distance between two points \n",
    "    on the earth (specified in decimal degrees)\n",
    "    \"\"\"\n",
    "    # convert decimal degrees to radians \n",
    "    lon1, lat1, lon2, lat2 = map(radians, [lon1, lat1, lon2, lat2])\n",
    "\n",
    "    # haversine formula \n",
    "    dlon = lon2 - lon1 \n",
    "    dlat = lat2 - lat1 \n",
    "    a = sin(dlat/2)**2 + cos(lat1) * cos(lat2) * sin(dlon/2)**2\n",
    "    c = 2 * asin(sqrt(a)) \n",
    "    r = 3958.8 # Radius in miles\n",
    "    return c* r\n",
    "\n",
    "def coord_linestring_miles(linestring):\n",
    "    numCoords = len(linestring.coords) - 1\n",
    "    distance = 0\n",
    "    for i in range(0, numCoords):\n",
    "        point1 = linestring.coords[i]\n",
    "        point2 = linestring.coords[i + 1]\n",
    "        distance += haversine(point1[0], point1[1], point2[0], point2[1])\n",
    "    if distance:\n",
    "        return distance\n",
    "    else:\n",
    "        return 0\n",
    "    "
   ]
  },
  {
   "cell_type": "code",
   "execution_count": 12,
   "id": "39f276dc-eea1-4b26-8d6d-c26e9992afeb",
   "metadata": {},
   "outputs": [],
   "source": [
    "union['miles_road'] = union['geometry'].apply(coord_linestring_miles)"
   ]
  },
  {
   "cell_type": "code",
   "execution_count": 13,
   "id": "a21b6c44-e0fb-48b5-8d29-aca8157016b4",
   "metadata": {},
   "outputs": [],
   "source": [
    "tract_road_miles = union.groupby(\"TRACT_20\").sum()['miles_road']"
   ]
  },
  {
   "cell_type": "code",
   "execution_count": 14,
   "id": "7a24f94f-9c44-4ba9-8bc6-95ec0547d33c",
   "metadata": {
    "tags": []
   },
   "outputs": [
    {
     "data": {
      "text/html": [
       "<div>\n",
       "<style scoped>\n",
       "    .dataframe tbody tr th:only-of-type {\n",
       "        vertical-align: middle;\n",
       "    }\n",
       "\n",
       "    .dataframe tbody tr th {\n",
       "        vertical-align: top;\n",
       "    }\n",
       "\n",
       "    .dataframe thead th {\n",
       "        text-align: right;\n",
       "    }\n",
       "</style>\n",
       "<table border=\"1\" class=\"dataframe\">\n",
       "  <thead>\n",
       "    <tr style=\"text-align: right;\">\n",
       "      <th></th>\n",
       "      <th>TRACT_20</th>\n",
       "      <th>AREA_SQMI</th>\n",
       "      <th>F2020_PL_data_TOT_POP</th>\n",
       "      <th>F2020_PL_data_POP_ONE</th>\n",
       "      <th>F2020_PL_data_WHITE_ALONE</th>\n",
       "      <th>F2020_PL_data_BLACK_ALONE</th>\n",
       "      <th>F2020_PL_data_AMI_ALONE</th>\n",
       "      <th>F2020_PL_data_ASIAN_ALONE</th>\n",
       "      <th>F2020_PL_data_PI_ALONE</th>\n",
       "      <th>F2020_PL_data_OTHER_ALONE</th>\n",
       "      <th>...</th>\n",
       "      <th>F2020_PL_data_POP_OVER_18</th>\n",
       "      <th>F2020_PL_data_POP_UNDER_18</th>\n",
       "      <th>F2020_PL_data_U_18_POC</th>\n",
       "      <th>F2020_PL_data_HU</th>\n",
       "      <th>F2020_PL_data_HU_OCC</th>\n",
       "      <th>F2020_PL_data_HU_VACANT</th>\n",
       "      <th>F2020_PL_data_GQ_I</th>\n",
       "      <th>F2020_PL_data_GQ_N_I</th>\n",
       "      <th>geometry</th>\n",
       "      <th>road_miles</th>\n",
       "    </tr>\n",
       "  </thead>\n",
       "  <tbody>\n",
       "    <tr>\n",
       "      <th>0</th>\n",
       "      <td>101</td>\n",
       "      <td>0.160162</td>\n",
       "      <td>3759</td>\n",
       "      <td>3326</td>\n",
       "      <td>1541</td>\n",
       "      <td>806</td>\n",
       "      <td>76</td>\n",
       "      <td>563</td>\n",
       "      <td>17</td>\n",
       "      <td>323</td>\n",
       "      <td>...</td>\n",
       "      <td>3139</td>\n",
       "      <td>620</td>\n",
       "      <td>505</td>\n",
       "      <td>2040</td>\n",
       "      <td>1902</td>\n",
       "      <td>138</td>\n",
       "      <td>33</td>\n",
       "      <td>0</td>\n",
       "      <td>POLYGON ((-122.29654 47.73198, -122.29653 47.7...</td>\n",
       "      <td>2.622470</td>\n",
       "    </tr>\n",
       "    <tr>\n",
       "      <th>1</th>\n",
       "      <td>102</td>\n",
       "      <td>0.931941</td>\n",
       "      <td>4321</td>\n",
       "      <td>3888</td>\n",
       "      <td>2550</td>\n",
       "      <td>439</td>\n",
       "      <td>34</td>\n",
       "      <td>700</td>\n",
       "      <td>13</td>\n",
       "      <td>152</td>\n",
       "      <td>...</td>\n",
       "      <td>3723</td>\n",
       "      <td>598</td>\n",
       "      <td>348</td>\n",
       "      <td>2189</td>\n",
       "      <td>2090</td>\n",
       "      <td>99</td>\n",
       "      <td>51</td>\n",
       "      <td>0</td>\n",
       "      <td>POLYGON ((-122.29640 47.72651, -122.29461 47.7...</td>\n",
       "      <td>8.479546</td>\n",
       "    </tr>\n",
       "    <tr>\n",
       "      <th>2</th>\n",
       "      <td>201</td>\n",
       "      <td>0.697538</td>\n",
       "      <td>4416</td>\n",
       "      <td>3925</td>\n",
       "      <td>2473</td>\n",
       "      <td>403</td>\n",
       "      <td>28</td>\n",
       "      <td>770</td>\n",
       "      <td>14</td>\n",
       "      <td>237</td>\n",
       "      <td>...</td>\n",
       "      <td>3749</td>\n",
       "      <td>667</td>\n",
       "      <td>405</td>\n",
       "      <td>2134</td>\n",
       "      <td>2049</td>\n",
       "      <td>85</td>\n",
       "      <td>13</td>\n",
       "      <td>0</td>\n",
       "      <td>POLYGON ((-122.32358 47.72130, -122.32357 47.7...</td>\n",
       "      <td>7.693064</td>\n",
       "    </tr>\n",
       "    <tr>\n",
       "      <th>3</th>\n",
       "      <td>202</td>\n",
       "      <td>0.571423</td>\n",
       "      <td>4099</td>\n",
       "      <td>3524</td>\n",
       "      <td>2480</td>\n",
       "      <td>242</td>\n",
       "      <td>32</td>\n",
       "      <td>635</td>\n",
       "      <td>13</td>\n",
       "      <td>122</td>\n",
       "      <td>...</td>\n",
       "      <td>3326</td>\n",
       "      <td>773</td>\n",
       "      <td>440</td>\n",
       "      <td>1718</td>\n",
       "      <td>1651</td>\n",
       "      <td>67</td>\n",
       "      <td>48</td>\n",
       "      <td>0</td>\n",
       "      <td>POLYGON ((-122.31005 47.73392, -122.30869 47.7...</td>\n",
       "      <td>12.363678</td>\n",
       "    </tr>\n",
       "    <tr>\n",
       "      <th>4</th>\n",
       "      <td>300</td>\n",
       "      <td>0.467540</td>\n",
       "      <td>2820</td>\n",
       "      <td>2530</td>\n",
       "      <td>1753</td>\n",
       "      <td>172</td>\n",
       "      <td>24</td>\n",
       "      <td>460</td>\n",
       "      <td>0</td>\n",
       "      <td>121</td>\n",
       "      <td>...</td>\n",
       "      <td>2279</td>\n",
       "      <td>541</td>\n",
       "      <td>276</td>\n",
       "      <td>1196</td>\n",
       "      <td>1139</td>\n",
       "      <td>57</td>\n",
       "      <td>33</td>\n",
       "      <td>0</td>\n",
       "      <td>POLYGON ((-122.34521 47.73413, -122.34510 47.7...</td>\n",
       "      <td>10.917438</td>\n",
       "    </tr>\n",
       "    <tr>\n",
       "      <th>...</th>\n",
       "      <td>...</td>\n",
       "      <td>...</td>\n",
       "      <td>...</td>\n",
       "      <td>...</td>\n",
       "      <td>...</td>\n",
       "      <td>...</td>\n",
       "      <td>...</td>\n",
       "      <td>...</td>\n",
       "      <td>...</td>\n",
       "      <td>...</td>\n",
       "      <td>...</td>\n",
       "      <td>...</td>\n",
       "      <td>...</td>\n",
       "      <td>...</td>\n",
       "      <td>...</td>\n",
       "      <td>...</td>\n",
       "      <td>...</td>\n",
       "      <td>...</td>\n",
       "      <td>...</td>\n",
       "      <td>...</td>\n",
       "      <td>...</td>\n",
       "    </tr>\n",
       "    <tr>\n",
       "      <th>175</th>\n",
       "      <td>12000</td>\n",
       "      <td>0.554843</td>\n",
       "      <td>3560</td>\n",
       "      <td>3150</td>\n",
       "      <td>2689</td>\n",
       "      <td>110</td>\n",
       "      <td>31</td>\n",
       "      <td>208</td>\n",
       "      <td>11</td>\n",
       "      <td>101</td>\n",
       "      <td>...</td>\n",
       "      <td>2761</td>\n",
       "      <td>799</td>\n",
       "      <td>289</td>\n",
       "      <td>1524</td>\n",
       "      <td>1470</td>\n",
       "      <td>54</td>\n",
       "      <td>5</td>\n",
       "      <td>0</td>\n",
       "      <td>POLYGON ((-122.39146 47.51607, -122.39146 47.5...</td>\n",
       "      <td>12.041209</td>\n",
       "    </tr>\n",
       "    <tr>\n",
       "      <th>176</th>\n",
       "      <td>12100</td>\n",
       "      <td>1.204939</td>\n",
       "      <td>2793</td>\n",
       "      <td>2517</td>\n",
       "      <td>2232</td>\n",
       "      <td>24</td>\n",
       "      <td>13</td>\n",
       "      <td>158</td>\n",
       "      <td>4</td>\n",
       "      <td>86</td>\n",
       "      <td>...</td>\n",
       "      <td>2314</td>\n",
       "      <td>479</td>\n",
       "      <td>167</td>\n",
       "      <td>1258</td>\n",
       "      <td>1189</td>\n",
       "      <td>69</td>\n",
       "      <td>0</td>\n",
       "      <td>0</td>\n",
       "      <td>POLYGON ((-122.40273 47.51934, -122.40241 47.5...</td>\n",
       "      <td>9.414727</td>\n",
       "    </tr>\n",
       "    <tr>\n",
       "      <th>177</th>\n",
       "      <td>26400</td>\n",
       "      <td>0.017399</td>\n",
       "      <td>0</td>\n",
       "      <td>0</td>\n",
       "      <td>0</td>\n",
       "      <td>0</td>\n",
       "      <td>0</td>\n",
       "      <td>0</td>\n",
       "      <td>0</td>\n",
       "      <td>0</td>\n",
       "      <td>...</td>\n",
       "      <td>0</td>\n",
       "      <td>0</td>\n",
       "      <td>0</td>\n",
       "      <td>0</td>\n",
       "      <td>0</td>\n",
       "      <td>0</td>\n",
       "      <td>0</td>\n",
       "      <td>0</td>\n",
       "      <td>POLYGON ((-122.32871 47.51659, -122.32864 47.5...</td>\n",
       "      <td>0.289453</td>\n",
       "    </tr>\n",
       "    <tr>\n",
       "      <th>178</th>\n",
       "      <td>26500</td>\n",
       "      <td>0.167347</td>\n",
       "      <td>89</td>\n",
       "      <td>72</td>\n",
       "      <td>34</td>\n",
       "      <td>6</td>\n",
       "      <td>2</td>\n",
       "      <td>21</td>\n",
       "      <td>2</td>\n",
       "      <td>7</td>\n",
       "      <td>...</td>\n",
       "      <td>71</td>\n",
       "      <td>18</td>\n",
       "      <td>18</td>\n",
       "      <td>41</td>\n",
       "      <td>36</td>\n",
       "      <td>5</td>\n",
       "      <td>0</td>\n",
       "      <td>0</td>\n",
       "      <td>POLYGON ((-122.34013 47.51728, -122.33991 47.5...</td>\n",
       "      <td>1.040364</td>\n",
       "    </tr>\n",
       "    <tr>\n",
       "      <th>179</th>\n",
       "      <td>26300</td>\n",
       "      <td>0.001875</td>\n",
       "      <td>11</td>\n",
       "      <td>8</td>\n",
       "      <td>2</td>\n",
       "      <td>2</td>\n",
       "      <td>0</td>\n",
       "      <td>1</td>\n",
       "      <td>0</td>\n",
       "      <td>3</td>\n",
       "      <td>...</td>\n",
       "      <td>7</td>\n",
       "      <td>4</td>\n",
       "      <td>4</td>\n",
       "      <td>4</td>\n",
       "      <td>3</td>\n",
       "      <td>1</td>\n",
       "      <td>0</td>\n",
       "      <td>0</td>\n",
       "      <td>POLYGON ((-122.27067 47.50030, -122.27075 47.5...</td>\n",
       "      <td>NaN</td>\n",
       "    </tr>\n",
       "  </tbody>\n",
       "</table>\n",
       "<p>180 rows × 31 columns</p>\n",
       "</div>"
      ],
      "text/plain": [
       "     TRACT_20  AREA_SQMI  F2020_PL_data_TOT_POP  F2020_PL_data_POP_ONE  \\\n",
       "0         101   0.160162                   3759                   3326   \n",
       "1         102   0.931941                   4321                   3888   \n",
       "2         201   0.697538                   4416                   3925   \n",
       "3         202   0.571423                   4099                   3524   \n",
       "4         300   0.467540                   2820                   2530   \n",
       "..        ...        ...                    ...                    ...   \n",
       "175     12000   0.554843                   3560                   3150   \n",
       "176     12100   1.204939                   2793                   2517   \n",
       "177     26400   0.017399                      0                      0   \n",
       "178     26500   0.167347                     89                     72   \n",
       "179     26300   0.001875                     11                      8   \n",
       "\n",
       "     F2020_PL_data_WHITE_ALONE  F2020_PL_data_BLACK_ALONE  \\\n",
       "0                         1541                        806   \n",
       "1                         2550                        439   \n",
       "2                         2473                        403   \n",
       "3                         2480                        242   \n",
       "4                         1753                        172   \n",
       "..                         ...                        ...   \n",
       "175                       2689                        110   \n",
       "176                       2232                         24   \n",
       "177                          0                          0   \n",
       "178                         34                          6   \n",
       "179                          2                          2   \n",
       "\n",
       "     F2020_PL_data_AMI_ALONE  F2020_PL_data_ASIAN_ALONE  \\\n",
       "0                         76                        563   \n",
       "1                         34                        700   \n",
       "2                         28                        770   \n",
       "3                         32                        635   \n",
       "4                         24                        460   \n",
       "..                       ...                        ...   \n",
       "175                       31                        208   \n",
       "176                       13                        158   \n",
       "177                        0                          0   \n",
       "178                        2                         21   \n",
       "179                        0                          1   \n",
       "\n",
       "     F2020_PL_data_PI_ALONE  F2020_PL_data_OTHER_ALONE  ...  \\\n",
       "0                        17                        323  ...   \n",
       "1                        13                        152  ...   \n",
       "2                        14                        237  ...   \n",
       "3                        13                        122  ...   \n",
       "4                         0                        121  ...   \n",
       "..                      ...                        ...  ...   \n",
       "175                      11                        101  ...   \n",
       "176                       4                         86  ...   \n",
       "177                       0                          0  ...   \n",
       "178                       2                          7  ...   \n",
       "179                       0                          3  ...   \n",
       "\n",
       "     F2020_PL_data_POP_OVER_18  F2020_PL_data_POP_UNDER_18  \\\n",
       "0                         3139                         620   \n",
       "1                         3723                         598   \n",
       "2                         3749                         667   \n",
       "3                         3326                         773   \n",
       "4                         2279                         541   \n",
       "..                         ...                         ...   \n",
       "175                       2761                         799   \n",
       "176                       2314                         479   \n",
       "177                          0                           0   \n",
       "178                         71                          18   \n",
       "179                          7                           4   \n",
       "\n",
       "     F2020_PL_data_U_18_POC  F2020_PL_data_HU  F2020_PL_data_HU_OCC  \\\n",
       "0                       505              2040                  1902   \n",
       "1                       348              2189                  2090   \n",
       "2                       405              2134                  2049   \n",
       "3                       440              1718                  1651   \n",
       "4                       276              1196                  1139   \n",
       "..                      ...               ...                   ...   \n",
       "175                     289              1524                  1470   \n",
       "176                     167              1258                  1189   \n",
       "177                       0                 0                     0   \n",
       "178                      18                41                    36   \n",
       "179                       4                 4                     3   \n",
       "\n",
       "     F2020_PL_data_HU_VACANT  F2020_PL_data_GQ_I  F2020_PL_data_GQ_N_I  \\\n",
       "0                        138                  33                     0   \n",
       "1                         99                  51                     0   \n",
       "2                         85                  13                     0   \n",
       "3                         67                  48                     0   \n",
       "4                         57                  33                     0   \n",
       "..                       ...                 ...                   ...   \n",
       "175                       54                   5                     0   \n",
       "176                       69                   0                     0   \n",
       "177                        0                   0                     0   \n",
       "178                        5                   0                     0   \n",
       "179                        1                   0                     0   \n",
       "\n",
       "                                              geometry  road_miles  \n",
       "0    POLYGON ((-122.29654 47.73198, -122.29653 47.7...    2.622470  \n",
       "1    POLYGON ((-122.29640 47.72651, -122.29461 47.7...    8.479546  \n",
       "2    POLYGON ((-122.32358 47.72130, -122.32357 47.7...    7.693064  \n",
       "3    POLYGON ((-122.31005 47.73392, -122.30869 47.7...   12.363678  \n",
       "4    POLYGON ((-122.34521 47.73413, -122.34510 47.7...   10.917438  \n",
       "..                                                 ...         ...  \n",
       "175  POLYGON ((-122.39146 47.51607, -122.39146 47.5...   12.041209  \n",
       "176  POLYGON ((-122.40273 47.51934, -122.40241 47.5...    9.414727  \n",
       "177  POLYGON ((-122.32871 47.51659, -122.32864 47.5...    0.289453  \n",
       "178  POLYGON ((-122.34013 47.51728, -122.33991 47.5...    1.040364  \n",
       "179  POLYGON ((-122.27067 47.50030, -122.27075 47.5...         NaN  \n",
       "\n",
       "[180 rows x 31 columns]"
      ]
     },
     "execution_count": 14,
     "metadata": {},
     "output_type": "execute_result"
    }
   ],
   "source": [
    "tracts = tracts.set_index(\"TRACT_20\")\n",
    "tracts['road_miles'] = tract_road_miles\n",
    "tracts.reset_index(inplace=True)\n",
    "tracts"
   ]
  },
  {
   "cell_type": "markdown",
   "id": "63efa93d-d5ba-49af-84a1-c0da631c36cf",
   "metadata": {},
   "source": [
    "## Now bike miles"
   ]
  },
  {
   "cell_type": "code",
   "execution_count": 15,
   "id": "618011ed-7d73-415e-9408-01f7fee50c91",
   "metadata": {},
   "outputs": [],
   "source": [
    "bikes = gpd.read_file('Existing_Bike_facilities.geojson')"
   ]
  },
  {
   "cell_type": "code",
   "execution_count": 16,
   "id": "cec02e58-434e-48e8-b1e7-66bc029f0908",
   "metadata": {},
   "outputs": [],
   "source": [
    "bikes = bikes[[\"UNITID\", \"geometry\"]]"
   ]
  },
  {
   "cell_type": "code",
   "execution_count": 17,
   "id": "df1fc732-3a87-4176-a070-03c2d9b6dd7d",
   "metadata": {},
   "outputs": [
    {
     "name": "stderr",
     "output_type": "stream",
     "text": [
      "/var/folders/9j/1f7mt18d2pqcwws6hwdx7_kr0000gn/T/ipykernel_92892/1379058627.py:1: UserWarning: `keep_geom_type=True` in overlay resulted in 180 dropped geometries of different geometry types than df1 has. Set `keep_geom_type=False` to retain all geometries\n",
      "  union = gpd.overlay(bikes, tracts, how=\"union\").explode().reset_index(drop=True)\n",
      "/var/folders/9j/1f7mt18d2pqcwws6hwdx7_kr0000gn/T/ipykernel_92892/1379058627.py:1: FutureWarning: Currently, index_parts defaults to True, but in the future, it will default to False to be consistent with Pandas. Use `index_parts=True` to keep the current behavior and True/False to silence the warning.\n",
      "  union = gpd.overlay(bikes, tracts, how=\"union\").explode().reset_index(drop=True)\n"
     ]
    }
   ],
   "source": [
    "union = gpd.overlay(bikes, tracts, how=\"union\").explode().reset_index(drop=True)"
   ]
  },
  {
   "cell_type": "code",
   "execution_count": 18,
   "id": "7dfd378f-90bd-4fc0-962e-8a87beeb78c1",
   "metadata": {},
   "outputs": [],
   "source": [
    "# we don't want streets over the water\n",
    "union.dropna(axis=0, subset=[\"TRACT_20\"], inplace=True)"
   ]
  },
  {
   "cell_type": "code",
   "execution_count": 19,
   "id": "019f8970-c0bd-4cd0-81ec-3b815d0fcf42",
   "metadata": {},
   "outputs": [],
   "source": [
    "union['bike_miles'] = union['geometry'].apply(coord_linestring_miles)"
   ]
  },
  {
   "cell_type": "code",
   "execution_count": 20,
   "id": "95efb9fb-ef2e-41a6-aa8a-5b32612ac273",
   "metadata": {},
   "outputs": [],
   "source": [
    "tract_bike_miles = union.groupby(\"TRACT_20\").sum()['bike_miles']"
   ]
  },
  {
   "cell_type": "code",
   "execution_count": 21,
   "id": "644020db-2735-46f2-83ed-c16c7f528b2c",
   "metadata": {},
   "outputs": [],
   "source": [
    "tracts = tracts.set_index(\"TRACT_20\")\n",
    "tracts['bike_miles'] = tract_bike_miles\n",
    "tracts.reset_index(inplace=True)"
   ]
  },
  {
   "cell_type": "code",
   "execution_count": 22,
   "id": "b1f34a25-3a6f-4c5c-aace-4343f0efea03",
   "metadata": {},
   "outputs": [],
   "source": [
    "tracts['miles_bike_per_road'] = tracts['bike_miles']/tracts['road_miles']"
   ]
  },
  {
   "cell_type": "code",
   "execution_count": 23,
   "id": "8bb9983a-ef4f-4fc4-bc86-8fbe694b3259",
   "metadata": {},
   "outputs": [],
   "source": [
    "tracts = tracts.fillna(0)"
   ]
  },
  {
   "cell_type": "markdown",
   "id": "457f93b3-91f7-4b38-ba1b-5f177f9058be",
   "metadata": {},
   "source": [
    "## Crosswalks"
   ]
  },
  {
   "cell_type": "code",
   "execution_count": 24,
   "id": "80ee246a-c6fb-4fcd-aafc-78ac2eff6d97",
   "metadata": {},
   "outputs": [],
   "source": [
    "crosswalks = pd.read_csv('Marked_Crosswalks.csv')"
   ]
  },
  {
   "cell_type": "code",
   "execution_count": 25,
   "id": "0f205cc4-ddc0-4c0f-8486-0334f98f0ff3",
   "metadata": {},
   "outputs": [
    {
     "data": {
      "text/plain": [
       "Index(['X', 'Y', 'OBJECTID', 'COMPKEY', 'UNITID', 'UNITDESC', 'CONDITION',\n",
       "       'CONDITION_ASSESSMENT_DATE', 'OWNERSHIP', 'CURRENT_STATUS',\n",
       "       'PRIMARYDISTRICTCD', 'SECONDARYDISTRICTCD', 'OVERRIDEYN', 'COMPTYPE',\n",
       "       'SEGKEY', 'UNITTYPE', 'OLD_ID', 'APPROACH', 'MARKING_TYPE', 'SCHOOL',\n",
       "       'MIDBLOCK_CROSSWALK', 'INSTALL_DATE', 'COLOR', 'COMMENTS', 'CATEGORY',\n",
       "       'OWNERSHIP_DATE', 'CURRENT_STATUS_DATE', 'MAINTAINED_BY',\n",
       "       'MAINTENANCE_AGREEMENT', 'CURBSPACEID', 'MAINT_DISTRICT',\n",
       "       'OVERRIDECOMMENT', 'SHAPE_LNG', 'SHAPE_LAT', 'CROSSWALK_CONTROL',\n",
       "       'MATERIAL', 'ONSTREET', 'XSTRLOW', 'MEAS_FROM_LOW', 'DISTTOLOW',\n",
       "       'STPOINT', 'XSTRHI', 'MEAS_FROM_HI', 'DISTTOHI', 'OFFSET', 'SIDE',\n",
       "       'MEASUREMENT_ORIGIN', 'ATTACHMENT_1', 'ATTACHMENT_2', 'ATTACHMENT_3',\n",
       "       'ATTACHMENT_4', 'ATTACHMENT_5', 'ATTACHMENT_6', 'ATTACHMENT_7',\n",
       "       'ATTACHMENT_8', 'ATTACHMENT_9', 'MAINTENANCE_GROUP', 'NUM_ATTACHMENTS'],\n",
       "      dtype='object')"
      ]
     },
     "execution_count": 25,
     "metadata": {},
     "output_type": "execute_result"
    }
   ],
   "source": [
    "crosswalks.columns"
   ]
  },
  {
   "cell_type": "code",
   "execution_count": 26,
   "id": "76abc85f-532c-41e2-a450-6e61b4edaae7",
   "metadata": {},
   "outputs": [],
   "source": [
    "crosswalks = crosswalks[[\"X\", \"Y\"]].astype(float)"
   ]
  },
  {
   "cell_type": "code",
   "execution_count": 27,
   "id": "df92a97e-5582-4857-954a-b84a5bd4a2d4",
   "metadata": {},
   "outputs": [],
   "source": [
    "crosswalks = gpd.GeoDataFrame(\n",
    "    crosswalks, geometry=gpd.points_from_xy(crosswalks.X, crosswalks.Y))"
   ]
  },
  {
   "cell_type": "code",
   "execution_count": 28,
   "id": "9e01fffe-177b-4229-b921-d3546d29b827",
   "metadata": {},
   "outputs": [
    {
     "name": "stderr",
     "output_type": "stream",
     "text": [
      "/var/folders/9j/1f7mt18d2pqcwws6hwdx7_kr0000gn/T/ipykernel_92892/2694179479.py:1: UserWarning: CRS mismatch between the CRS of left geometries and the CRS of right geometries.\n",
      "Use `to_crs()` to reproject one of the input geometries to match the CRS of the other.\n",
      "\n",
      "Left CRS: None\n",
      "Right CRS: EPSG:4326\n",
      "\n",
      "  union = gpd.overlay(crosswalks, tracts, how=\"union\").explode().reset_index(drop=True)\n",
      "/var/folders/9j/1f7mt18d2pqcwws6hwdx7_kr0000gn/T/ipykernel_92892/2694179479.py:1: UserWarning: `keep_geom_type=True` in overlay resulted in 180 dropped geometries of different geometry types than df1 has. Set `keep_geom_type=False` to retain all geometries\n",
      "  union = gpd.overlay(crosswalks, tracts, how=\"union\").explode().reset_index(drop=True)\n",
      "/var/folders/9j/1f7mt18d2pqcwws6hwdx7_kr0000gn/T/ipykernel_92892/2694179479.py:1: FutureWarning: Currently, index_parts defaults to True, but in the future, it will default to False to be consistent with Pandas. Use `index_parts=True` to keep the current behavior and True/False to silence the warning.\n",
      "  union = gpd.overlay(crosswalks, tracts, how=\"union\").explode().reset_index(drop=True)\n"
     ]
    }
   ],
   "source": [
    "union = gpd.overlay(crosswalks, tracts, how=\"union\").explode().reset_index(drop=True)"
   ]
  },
  {
   "cell_type": "code",
   "execution_count": 29,
   "id": "03cd54c3-4cbc-4697-bf81-2551c1bcbf8a",
   "metadata": {},
   "outputs": [],
   "source": [
    "union.dropna(axis=0, subset=[\"TRACT_20\"], inplace=True)"
   ]
  },
  {
   "cell_type": "code",
   "execution_count": 30,
   "id": "a7bc4984-d89d-4bdb-b713-249e6e6728e2",
   "metadata": {},
   "outputs": [],
   "source": [
    "cross_count = union.groupby(\"TRACT_20\").count()['X']"
   ]
  },
  {
   "cell_type": "code",
   "execution_count": 31,
   "id": "43cd8ce7-7be9-4a0c-b37e-82cb4518b209",
   "metadata": {},
   "outputs": [],
   "source": [
    "tracts = tracts.set_index(\"TRACT_20\")\n",
    "tracts['cross_count'] = cross_count\n",
    "tracts.reset_index(inplace=True)"
   ]
  },
  {
   "cell_type": "code",
   "execution_count": 32,
   "id": "aae126f7-6555-4f5d-b86f-2fe91d0e3e2c",
   "metadata": {},
   "outputs": [],
   "source": [
    "tracts.fillna(0, inplace=True)\n",
    "tracts['crosses_per_road_mile'] = tracts[\"cross_count\"]/tracts[\"road_miles\"]"
   ]
  },
  {
   "cell_type": "markdown",
   "id": "ce3b0cdb-956b-4c62-bdc2-a25e6149cd8e",
   "metadata": {},
   "source": [
    "## Compute some metrics"
   ]
  },
  {
   "cell_type": "code",
   "execution_count": 46,
   "id": "acc1b1c4-43ca-4575-8ffa-1d641cf121b8",
   "metadata": {},
   "outputs": [],
   "source": [
    "tracts['normalized_bike_index'] = tracts[\"miles_bike_per_road\"]/max(tracts[\"miles_bike_per_road\"])\n",
    "tracts['normalized_cross_index'] = tracts[\"crosses_per_road_mile\"]/max(tracts[\"crosses_per_road_mile\"])\n",
    "tracts['accessibility_index'] = tracts['normalized_bike_index']/2 + tracts['normalized_cross_index']/2"
   ]
  },
  {
   "cell_type": "code",
   "execution_count": 47,
   "id": "b8ef94e0-2c30-49c7-a565-3d1ea5d273ae",
   "metadata": {},
   "outputs": [
    {
     "data": {
      "text/plain": [
       "<AxesSubplot:>"
      ]
     },
     "execution_count": 47,
     "metadata": {},
     "output_type": "execute_result"
    },
    {
     "data": {
      "image/png": "[encoded data removed]",
      "text/plain": [
       "<Figure size 432x288 with 1 Axes>"
      ]
     },
     "metadata": {
      "needs_background": "light"
     },
     "output_type": "display_data"
    }
   ],
   "source": [
    "tracts[\"accessibility_index\"].hist()"
   ]
  },
  {
   "cell_type": "code",
   "execution_count": 35,
   "id": "46256a3d-3f09-4de3-b207-91dafcebd492",
   "metadata": {},
   "outputs": [],
   "source": [
    "tracts[\"POC_ratio\"] = tracts[\"F2020_PL_data_POC\"]/tracts[\"F2020_PL_data_TOT_POP\"]"
   ]
  },
  {
   "cell_type": "code",
   "execution_count": 37,
   "id": "baa4dcec-3250-4eae-b2fc-43394e8b567d",
   "metadata": {},
   "outputs": [],
   "source": [
    "tracts[\"POC_density\"] = tracts[\"F2020_PL_data_POC\"]/tracts[\"AREA_SQMI\"]"
   ]
  },
  {
   "cell_type": "code",
   "execution_count": 81,
   "id": "5c024899-7eb8-4397-9354-b83f6cb17874",
   "metadata": {},
   "outputs": [],
   "source": [
    "import shapely"
   ]
  },
  {
   "cell_type": "code",
   "execution_count": 91,
   "id": "890db7eb-e65d-4250-97ff-cb3dbcd33612",
   "metadata": {},
   "outputs": [],
   "source": [
    "# reverse order to clockwise\n",
    "tracts['geometry'] = tracts['geometry'].apply(lambda poly: shapely.geometry.polygon.orient(poly, -1))"
   ]
  },
  {
   "cell_type": "code",
   "execution_count": 40,
   "id": "1d124c82-4dde-42b1-959f-2ca3ae319d95",
   "metadata": {},
   "outputs": [],
   "source": [
    "import matplotlib.pyplot as plt"
   ]
  },
  {
   "cell_type": "code",
   "execution_count": 94,
   "id": "6e48cf95-0ac9-43aa-b3f2-73d1a7c95a8a",
   "metadata": {},
   "outputs": [
    {
     "data": {
      "text/plain": [
       "<AxesSubplot:>"
      ]
     },
     "execution_count": 94,
     "metadata": {},
     "output_type": "execute_result"
    },
    {
     "data": {
      "image/png": "[encoded data removed]",
      "text/plain": [
       "<Figure size 720x720 with 2 Axes>"
      ]
     },
     "metadata": {
      "needs_background": "light"
     },
     "output_type": "display_data"
    }
   ],
   "source": [
    "fig, ax = plt.subplots(figsize=(10,10))\n",
    "tracts.plot(ax=ax, column='normalized_bike_index', legend=True)\n",
    "# crosswalks.plot(ax=ax)"
   ]
  },
  {
   "cell_type": "code",
   "execution_count": 74,
   "id": "fbf6d574-e0f9-45ca-9a23-cc16738b2995",
   "metadata": {},
   "outputs": [
    {
     "data": {
      "text/plain": [
       "<AxesSubplot:>"
      ]
     },
     "execution_count": 74,
     "metadata": {},
     "output_type": "execute_result"
    },
    {
     "data": {
      "image/png": "[encoded data removed]",
      "text/plain": [
       "<Figure size 720x720 with 2 Axes>"
      ]
     },
     "metadata": {
      "needs_background": "light"
     },
     "output_type": "display_data"
    }
   ],
   "source": [
    "fig, ax = plt.subplots(figsize=(10,10))\n",
    "tracts.plot(ax=ax, column='accessibility_index', legend=True)\n",
    "# crosswalks.plot(ax=ax)"
   ]
  },
  {
   "cell_type": "code",
   "execution_count": 85,
   "id": "5fa6e6e1-ab0a-4b9f-8639-841ecdf8b2c7",
   "metadata": {},
   "outputs": [
    {
     "data": {
      "text/plain": [
       "Text(0, 0.5, 'accessibility')"
      ]
     },
     "execution_count": 85,
     "metadata": {},
     "output_type": "execute_result"
    },
    {
     "data": {
      "image/png": "[encoded data removed]",
      "text/plain": [
       "<Figure size 720x720 with 1 Axes>"
      ]
     },
     "metadata": {
      "needs_background": "light"
     },
     "output_type": "display_data"
    }
   ],
   "source": [
    "fig, ax = plt.subplots(figsize=(10,10))\n",
    "ax.scatter(x=tracts['POC_ratio'], y=tracts[\"accessibility_index\"])\n",
    "ax.set_xlabel(\"POC\")\n",
    "ax.set_ylabel(\"accessibility\")"
   ]
  },
  {
   "cell_type": "code",
   "execution_count": 69,
   "id": "6cb2bfb1-a6d5-437b-9728-1b954991156e",
   "metadata": {},
   "outputs": [],
   "source": [
    "import shapely"
   ]
  },
  {
   "cell_type": "code",
   "execution_count": 80,
   "id": "6f4b1268-c89f-4897-92cf-9c48cde406b6",
   "metadata": {},
   "outputs": [
    {
     "name": "stdout",
     "output_type": "stream",
     "text": [
      "POLYGON ((-122.296404783966 47.7265108455789, -122.294610784419 47.7264958488696, -122.294571784565 47.7264958493073, -122.293570783924 47.7264868510905, -122.29226478478 47.7264758539416, -122.290906784563 47.7264638566216, -122.289558783607 47.7264498595976, -122.289606792767 47.7282788596933, -122.289654800872 47.7300998586463, -122.289704809076 47.7319318582122, -122.289751816265 47.7337338584922, -122.288413816552 47.7337308610941, -122.28704881607 47.7337228638495, -122.286709816944 47.7337258642781, -122.286321816912 47.7337308652036, -122.285955816416 47.7337338664089, -122.284661816852 47.7337388692277, -122.284536816424 47.7337388692267, -122.283756816471 47.7337368710844, -122.282010816921 47.7337388745943, -122.280632816024 47.7337368778206, -122.279631816365 47.7337368800783, -122.274926816808 47.7337338895106, -122.274395816072 47.7337338913287, -122.274366816057 47.7334918909995, -122.273586786733 47.7269298933302, -122.273517785443 47.7266818939128, -122.273489785049 47.7265798939023, -122.273460784809 47.7264778939174, -122.27330578248 47.7259148939611, -122.273273781756 47.7257878944182, -122.271921757676 47.7204358976676, -122.27122175111 47.7188588991764, -122.278035750617 47.718921884819, -122.279371751663 47.7190618821021, -122.27947375102 47.7190468823615, -122.280012752373 47.7191488806097, -122.280190752179 47.7191668809814, -122.283216751784 47.7191898744226, -122.283256752358 47.7192108741678, -122.283381752378 47.7192308739843, -122.284105752409 47.7192328719455, -122.284725752058 47.7192188710522, -122.284992752476 47.7192048705262, -122.285329751587 47.7192078700617, -122.285359751543 47.7192068700246, -122.285927752166 47.7191898687854, -122.286289751821 47.7192158680644, -122.287333752169 47.719224865868, -122.288528752809 47.7192348634555, -122.289337752325 47.7192408612162, -122.290783752483 47.7192538587089, -122.292729752911 47.7192648539504, -122.293906751772 47.7192708523829, -122.295232751877 47.7192788489185, -122.29631375296 47.7192848468689, -122.296335760039 47.7210928466055, -122.296358768373 47.7228998464753, -122.296381776429 47.7247038460316, -122.296404783966 47.7265108455789))\n"
     ]
    }
   ],
   "source": [
    "print(shapely.geometry.polygon.orient(tracts[\"geometry\"][1], -1))"
   ]
  },
  {
   "cell_type": "code",
   "execution_count": 72,
   "id": "90446de5-c6d3-4642-b288-1ac300dbefd7",
   "metadata": {},
   "outputs": [
    {
     "ename": "SyntaxError",
     "evalue": "invalid syntax (3532017866.py, line 1)",
     "output_type": "error",
     "traceback": [
      "\u001b[0;36m  Input \u001b[0;32mIn [72]\u001b[0;36m\u001b[0m\n\u001b[0;31m    -122.296404783966 47.7265108455789\u001b[0m\n\u001b[0m                      ^\u001b[0m\n\u001b[0;31mSyntaxError\u001b[0m\u001b[0;31m:\u001b[0m invalid syntax\n"
     ]
    }
   ],
   "source": [
    "-122.296381776429 47.7247038460316\n",
    "-122.294610784419 47.7264958488696"
   ]
  },
  {
   "cell_type": "code",
   "execution_count": 54,
   "id": "e0aaad59-4c11-486e-aaab-951a1fb69a52",
   "metadata": {},
   "outputs": [
    {
     "data": {
      "text/plain": [
       "['__and__',\n",
       " '__array_interface__',\n",
       " '__bool__',\n",
       " '__class__',\n",
       " '__del__',\n",
       " '__delattr__',\n",
       " '__dict__',\n",
       " '__dir__',\n",
       " '__doc__',\n",
       " '__eq__',\n",
       " '__format__',\n",
       " '__ge__',\n",
       " '__geo_interface__',\n",
       " '__geom__',\n",
       " '__getattribute__',\n",
       " '__gt__',\n",
       " '__hash__',\n",
       " '__init__',\n",
       " '__init_subclass__',\n",
       " '__le__',\n",
       " '__lt__',\n",
       " '__module__',\n",
       " '__ne__',\n",
       " '__new__',\n",
       " '__nonzero__',\n",
       " '__or__',\n",
       " '__p__',\n",
       " '__reduce__',\n",
       " '__reduce_ex__',\n",
       " '__repr__',\n",
       " '__setattr__',\n",
       " '__setstate__',\n",
       " '__sizeof__',\n",
       " '__str__',\n",
       " '__sub__',\n",
       " '__subclasshook__',\n",
       " '__weakref__',\n",
       " '__xor__',\n",
       " '_array_interface_base',\n",
       " '_crs',\n",
       " '_ctypes',\n",
       " '_ctypes_data',\n",
       " '_empty',\n",
       " '_exterior',\n",
       " '_geom',\n",
       " '_get_coords',\n",
       " '_interiors',\n",
       " '_is_empty',\n",
       " '_lgeos',\n",
       " '_ndim',\n",
       " '_other_owned',\n",
       " '_repr_svg_',\n",
       " '_set_coords',\n",
       " '_set_geom',\n",
       " 'almost_equals',\n",
       " 'area',\n",
       " 'array_interface_base',\n",
       " 'boundary',\n",
       " 'bounds',\n",
       " 'buffer',\n",
       " 'centroid',\n",
       " 'contains',\n",
       " 'convex_hull',\n",
       " 'coords',\n",
       " 'covered_by',\n",
       " 'covers',\n",
       " 'crosses',\n",
       " 'ctypes',\n",
       " 'difference',\n",
       " 'disjoint',\n",
       " 'distance',\n",
       " 'empty',\n",
       " 'envelope',\n",
       " 'equals',\n",
       " 'equals_exact',\n",
       " 'exterior',\n",
       " 'from_bounds',\n",
       " 'geom_type',\n",
       " 'geometryType',\n",
       " 'has_z',\n",
       " 'hausdorff_distance',\n",
       " 'impl',\n",
       " 'interiors',\n",
       " 'interpolate',\n",
       " 'intersection',\n",
       " 'intersects',\n",
       " 'is_closed',\n",
       " 'is_empty',\n",
       " 'is_ring',\n",
       " 'is_simple',\n",
       " 'is_valid',\n",
       " 'length',\n",
       " 'minimum_clearance',\n",
       " 'minimum_rotated_rectangle',\n",
       " 'normalize',\n",
       " 'overlaps',\n",
       " 'project',\n",
       " 'relate',\n",
       " 'relate_pattern',\n",
       " 'representative_point',\n",
       " 'simplify',\n",
       " 'svg',\n",
       " 'symmetric_difference',\n",
       " 'touches',\n",
       " 'type',\n",
       " 'union',\n",
       " 'within',\n",
       " 'wkb',\n",
       " 'wkb_hex',\n",
       " 'wkt',\n",
       " 'xy']"
      ]
     },
     "execution_count": 54,
     "metadata": {},
     "output_type": "execute_result"
    }
   ],
   "source": [
    "dir(tracts[\"geometry\"][1])"
   ]
  },
  {
   "cell_type": "code",
   "execution_count": 78,
   "id": "7cb41e78-772e-4b6a-99f6-f4d3b339c1ab",
   "metadata": {},
   "outputs": [],
   "source": [
    "least_accessible = list(tracts[\"accessibility_index\"].sort_values()[:10].index)"
   ]
  },
  {
   "cell_type": "code",
   "execution_count": 81,
   "id": "a9c36599-4e21-45b1-8641-fb941018f1f9",
   "metadata": {},
   "outputs": [],
   "source": [
    "most_POC = list(tracts[\"POC_ratio\"].sort_values()[-11:-1].index)"
   ]
  },
  {
   "cell_type": "code",
   "execution_count": 82,
   "id": "9844418b-8174-4613-a19f-68f08d05da2b",
   "metadata": {},
   "outputs": [
    {
     "data": {
      "text/plain": [
       "[178, 177, 8, 105, 176, 93, 13, 175, 81, 49]"
      ]
     },
     "execution_count": 82,
     "metadata": {},
     "output_type": "execute_result"
    }
   ],
   "source": [
    "least_accessible"
   ]
  },
  {
   "cell_type": "code",
   "execution_count": 83,
   "id": "9338f17d-58f9-4b86-9fe6-95c2419359bb",
   "metadata": {},
   "outputs": [
    {
     "data": {
      "text/plain": [
       "[172, 149, 131, 161, 171, 173, 179, 170, 159, 160]"
      ]
     },
     "execution_count": 83,
     "metadata": {},
     "output_type": "execute_result"
    }
   ],
   "source": [
    "most_POC"
   ]
  },
  {
   "cell_type": "code",
   "execution_count": null,
   "id": "95f91631-9a08-4b23-a082-b3cc2e25fa15",
   "metadata": {},
   "outputs": [],
   "source": []
  }
 ],
 "metadata": {
  "kernelspec": {
   "display_name": "Python 3 (ipykernel)",
   "language": "python",
   "name": "python3"
  },
  "language_info": {
   "codemirror_mode": {
    "name": "ipython",
    "version": 3
   },
   "file_extension": ".py",
   "mimetype": "text/x-python",
   "name": "python",
   "nbconvert_exporter": "python",
   "pygments_lexer": "ipython3",
   "version": "3.10.4"
  }
 },
 "nbformat": 4,
 "nbformat_minor": 5
}
