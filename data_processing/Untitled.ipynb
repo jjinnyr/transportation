{
 "cells": [
  {
   "cell_type": "code",
   "execution_count": 1,
   "id": "e6ff8e57-cf74-43b9-b936-80aa0fa7a685",
   "metadata": {},
   "outputs": [
    {
     "ename": "Error",
     "evalue": "Cannot find module 'weacast-gtiff2json'\nRequire stack:\n- /Users/ek/Documents/cse512/nwacviz-fp/data_processing/[eval]",
     "execution_count": 1,
     "output_type": "error",
     "traceback": [
      "node:internal/modules/cjs/loader:936",
      "  throw err;",
      "  ^",
      "",
      "Error: Cannot find module 'weacast-gtiff2json'",
      "Require stack:",
      "- /Users/ek/Documents/cse512/nwacviz-fp/data_processing/[eval]",
      "    at Function.Module._resolveFilename (node:internal/modules/cjs/loader:933:15)",
      "    at Function.Module._load (node:internal/modules/cjs/loader:778:27)",
      "    at Module.require (node:internal/modules/cjs/loader:999:19)",
      "    at require (node:internal/modules/cjs/helpers:102:18)",
      "    at evalmachine.<anonymous>:1:20",
      "    at Script.runInThisContext (node:vm:129:12)",
      "    at Object.runInThisContext (node:vm:305:38)",
      "    at run ([eval]:1020:15)",
      "    at onRunRequest ([eval]:864:18)",
      "    at onMessage ([eval]:828:13)"
     ]
    }
   ],
   "source": [
    "var geotiff2json = require('weacast-gtiff2json'),\n",
    "    fs = require('fs')\n",
    "    \n",
    "    geotiff2json('file.tif', true).then(function(data) {\n",
    "      fs.writeFile('data.json', JSON.stringify(data), function(err) {\n",
    "        if(err) {\n",
    "          console.error('Oh no, writing failed!', err)\n",
    "          return\n",
    "        }\n",
    "        console.log('wrote ' + (data.length / 2) + ' tuples into file.')\n",
    "      })\n",
    "    })"
   ]
  },
  {
   "cell_type": "code",
   "execution_count": null,
   "id": "a155472f-079d-4009-a78f-e186a92381e6",
   "metadata": {},
   "outputs": [],
   "source": []
  },
  {
   "cell_type": "code",
   "execution_count": null,
   "id": "d4c5dbe5-58cc-470e-881e-2c2f826d7e4f",
   "metadata": {},
   "outputs": [],
   "source": []
  }
 ],
 "metadata": {
  "kernelspec": {
   "display_name": "JavaScript (Node.js)",
   "language": "javascript",
   "name": "javascript"
  },
  "language_info": {
   "file_extension": ".js",
   "mimetype": "application/javascript",
   "name": "javascript",
   "version": "17.9.0"
  }
 },
 "nbformat": 4,
 "nbformat_minor": 5
}
